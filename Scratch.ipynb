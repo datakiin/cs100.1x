{
 "cells": [
  {
   "cell_type": "code",
   "execution_count": 1,
   "metadata": {
    "collapsed": false
   },
   "outputs": [
    {
     "data": {
      "text/plain": [
       "'ssh-rsa AAAAB3NzaC1yc2EAAAADAQABAAACAQC8/1aBurBrd6RNN8gowx8MIg80ou/30v6olEeLrEvrfZhV/cVd7vkxEwzz1xMhkoP9jU4+kBJ7WaChRhjuF74pXJ+KvKZfst7u26bJ9eYXyG2CuXv0eLw6T8bY9qsX4jkrGdviF2qfFKwPBQcnaYc0+Kj8LCITYPtpyd0EruFqoxibcbprKAKyrVe83ur+rYxKGJuDVBar69hb62h0GVkD9SxJANFCuudU1ryKc9hV2/AEt3ZhAznnbIezk39gqnhRbCVDefcgKSpVNuxHkYt9G2AOm2OfWVyCf9NL92ysVaTnEmmRMvqjuNcwoL9VnJWazmhdLzaVlz25jkKk2ikaBtjmQ2Hk2M/ekjJMK5jdmgaMfY6ikp26+jVY2f9Cz4kTRWRSmVEzN4qT2HqF6QN1RGrGzoNdXyE13h8VnqYJFNXivMx/+JDWrf4ov6pVi7fH3AfJ95RrUR4nOV9H3nYscjWnyBc8khQgyCEFjrYm8hUKsk7kVppg3tAZdnBYC9mQGq9la7RXloaxGIdWQnsWGWpyWx83dshLZss/7wSsqw0FY8H5e4w+B4ppjMkgqyKtEftTiKVXewbzdhMi3ilGmznuxw9J+shFblNutRQkW5aK2JeGvmkV0bIaxKjOU38Ps5zuLHOHyuWS/LECphqG1CrrTcrkMcJjDfb5AekgaQ== xbsd@yahoo.com\\n'"
      ]
     },
     "execution_count": 1,
     "metadata": {},
     "output_type": "execute_result"
    }
   ],
   "source": [
    "open(\"/home/vagrant/.ssh/id_rsa.pub\", 'r').read()"
   ]
  },
  {
   "cell_type": "code",
   "execution_count": null,
   "metadata": {
    "collapsed": true
   },
   "outputs": [],
   "source": []
  }
 ],
 "metadata": {
  "kernelspec": {
   "display_name": "Python 2",
   "language": "python",
   "name": "python2"
  },
  "language_info": {
   "codemirror_mode": {
    "name": "ipython",
    "version": 2
   },
   "file_extension": ".py",
   "mimetype": "text/x-python",
   "name": "python",
   "nbconvert_exporter": "python",
   "pygments_lexer": "ipython2",
   "version": "2.7.6"
  }
 },
 "nbformat": 4,
 "nbformat_minor": 0
}
